{
  "nbformat": 4,
  "nbformat_minor": 0,
  "metadata": {
    "colab": {
      "provenance": [],
      "authorship_tag": "ABX9TyPwUuWqk2Qyws8TvdASMt87",
      "include_colab_link": true
    },
    "kernelspec": {
      "name": "python3",
      "display_name": "Python 3"
    },
    "language_info": {
      "name": "python"
    }
  },
  "cells": [
    {
      "cell_type": "markdown",
      "metadata": {
        "id": "view-in-github",
        "colab_type": "text"
      },
      "source": [
        "<a href=\"https://colab.research.google.com/github/sujithcplusplus/facial_feature_mapping/blob/main/required_functions.ipynb\" target=\"_parent\"><img src=\"https://colab.research.google.com/assets/colab-badge.svg\" alt=\"Open In Colab\"/></a>"
      ]
    },
    {
      "cell_type": "code",
      "execution_count": null,
      "metadata": {
        "id": "SifnLlS_C6np"
      },
      "outputs": [],
      "source": [
        "def build_model(df,col1,col2,model_name):\n",
        "  required_data = df.iloc[:, [ col1, col2, 30]].copy()\n",
        "  required_data.dropna(inplace=True)\n",
        "\n",
        "  Img_paths = required_data.iloc[:, -1]\n",
        "  y = required_data.iloc[:, :2]\n",
        "\n",
        "  X = []\n",
        "\n",
        "  for i in Img_paths:\n",
        "    itensor = tf.image.rgb_to_grayscale(tf.convert_to_tensor(Image.open(i),dtype=tf.float32))\n",
        "    X.append(itensor/255)\n",
        "  X = np.array(X)\n",
        "\n",
        "  model = tf.keras.Sequential([\n",
        "    tf.keras.layers.Conv2D(32,3,activation='relu',input_shape=(96,96,1)),\n",
        "    tf.keras.layers.MaxPool2D(2),\n",
        "    tf.keras.layers.Dropout(0.2),\n",
        "    tf.keras.layers.Conv2D(64,3,activation='relu'),\n",
        "    tf.keras.layers.MaxPool2D(2),\n",
        "    tf.keras.layers.Dropout(0.2),\n",
        "    tf.keras.layers.Conv2D(128,3,activation='relu'),\n",
        "    tf.keras.layers.MaxPool2D(2),\n",
        "    tf.keras.layers.Dropout(0.2),\n",
        "    tf.keras.layers.Conv2D(256,3,activation='relu'),\n",
        "    tf.keras.layers.MaxPool2D(2),\n",
        "    tf.keras.layers.Dropout(0.2),\n",
        "    tf.keras.layers.Flatten(),\n",
        "    tf.keras.layers.Dense(128,activation='relu'),\n",
        "    tf.keras.layers.Dense(2,activation='linear'),\n",
        "    tf.keras.layers.Lambda(lambda x: x * 96)\n",
        "  ])\n",
        "\n",
        "  model.compile(loss = 'mae',\n",
        "                optimizer = tf.keras.optimizers.SGD(learning_rate=0.0001,momentum=0.9),\n",
        "                metrics = ['mae','mse'])\n",
        "  model.fit(X,y,epochs=50)\n",
        "\n",
        "  model.save(model_name)\n",
        "  return 0"
      ]
    }
  ]
}